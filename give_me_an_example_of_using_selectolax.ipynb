{
  "cells": [
    {
      "cell_type": "markdown",
      "metadata": {
        "id": "view-in-github",
        "colab_type": "text"
      },
      "source": [
        "<a href=\"https://colab.research.google.com/github/kennymcmillan/power-of-10/blob/master/give_me_an_example_of_using_selectolax.ipynb\" target=\"_parent\"><img src=\"https://colab.research.google.com/assets/colab-badge.svg\" alt=\"Open In Colab\"/></a>"
      ]
    },
    {
      "cell_type": "markdown",
      "source": [
        "Sure, here is an example of using selectolax to extract the text from a web page:"
      ],
      "metadata": {
        "id": "KNYSqT1W8AEM"
      }
    },
    {
      "cell_type": "code",
      "source": [
        "!pip install selectolax\n",
        "\n",
        "import selectolax\n",
        "\n",
        "from selectolax import HTMLParser\n",
        "\n",
        "html = \"\"\"\n",
        "<html>\n",
        "<head>\n",
        "<title>This is a title</title>\n",
        "</head>\n",
        "<body>\n",
        "<h1>This is a heading</h1>\n",
        "<p>This is a paragraph</p>\n",
        "</body>\n",
        "</html>\n",
        "\"\"\"\n",
        "\n",
        "tree = selectolax.HTMLParser(html)\n",
        "\n",
        "# Get the text from the h1 tag\n",
        "h1_text = tree.css_first('h1').text()\n",
        "\n",
        "# Get the text from the paragraph tag\n",
        "paragraph_text = tree.css_first('p').text()\n",
        "\n",
        "print(h1_text)\n",
        "print(paragraph_text)"
      ],
      "outputs": [
        {
          "output_type": "stream",
          "name": "stdout",
          "text": [
            "Looking in indexes: https://pypi.org/simple, https://us-python.pkg.dev/colab-wheels/public/simple/\n",
            "Requirement already satisfied: selectolax in /usr/local/lib/python3.10/dist-packages (0.3.13)\n",
            "Requirement already satisfied: Cython>=0.29.23 in /usr/local/lib/python3.10/dist-packages (from selectolax) (0.29.34)\n"
          ]
        },
        {
          "output_type": "error",
          "ename": "ImportError",
          "evalue": "ignored",
          "traceback": [
            "\u001b[0;31m---------------------------------------------------------------------------\u001b[0m",
            "\u001b[0;31mImportError\u001b[0m                               Traceback (most recent call last)",
            "\u001b[0;32m<ipython-input-3-c5c24164c33f>\u001b[0m in \u001b[0;36m<cell line: 5>\u001b[0;34m()\u001b[0m\n\u001b[1;32m      3\u001b[0m \u001b[0;32mimport\u001b[0m \u001b[0mselectolax\u001b[0m\u001b[0;34m\u001b[0m\u001b[0;34m\u001b[0m\u001b[0m\n\u001b[1;32m      4\u001b[0m \u001b[0;34m\u001b[0m\u001b[0m\n\u001b[0;32m----> 5\u001b[0;31m \u001b[0;32mfrom\u001b[0m \u001b[0mselectolax\u001b[0m \u001b[0;32mimport\u001b[0m \u001b[0mHTMLParser\u001b[0m\u001b[0;34m\u001b[0m\u001b[0;34m\u001b[0m\u001b[0m\n\u001b[0m\u001b[1;32m      6\u001b[0m \u001b[0;34m\u001b[0m\u001b[0m\n\u001b[1;32m      7\u001b[0m html = \"\"\"\n",
            "\u001b[0;31mImportError\u001b[0m: cannot import name 'HTMLParser' from 'selectolax' (/usr/local/lib/python3.10/dist-packages/selectolax/__init__.py)",
            "",
            "\u001b[0;31m---------------------------------------------------------------------------\u001b[0;32m\nNOTE: If your import is failing due to a missing package, you can\nmanually install dependencies using either !pip or !apt.\n\nTo view examples of installing some common dependencies, click the\n\"Open Examples\" button below.\n\u001b[0;31m---------------------------------------------------------------------------\u001b[0m\n"
          ],
          "errorDetails": {
            "actions": [
              {
                "action": "open_url",
                "actionText": "Open Examples",
                "url": "/notebooks/snippets/importing_libraries.ipynb"
              }
            ]
          }
        }
      ],
      "execution_count": null,
      "metadata": {
        "colab": {
          "base_uri": "https://localhost:8080/",
          "height": 425
        },
        "id": "tbYph7Jx8AEQ",
        "outputId": "2cef9833-182e-4092-d054-441fd8e0e58a"
      }
    },
    {
      "cell_type": "markdown",
      "source": [
        "This will print the following output:\n",
        "\n",
        "```\n",
        "This is a heading\n",
        "This is a paragraph\n",
        "```\n",
        "\n",
        "Selectolax is a powerful tool that can be used to extract data from web pages. It is a fast and efficient parser that can handle even the most complex HTML documents. It is also easy to use, making it a great choice for both beginners and experienced developers."
      ],
      "metadata": {
        "id": "dHZT3NAH8AES"
      }
    }
  ],
  "metadata": {
    "colab": {
      "provenance": [],
      "include_colab_link": true
    },
    "kernelspec": {
      "display_name": "Python 3",
      "name": "python3"
    }
  },
  "nbformat": 4,
  "nbformat_minor": 0
}